{
 "cells": [
  {
   "cell_type": "code",
   "execution_count": 2,
   "metadata": {
    "collapsed": false
   },
   "outputs": [
    {
     "name": "stderr",
     "output_type": "stream",
     "text": [
      "Using TensorFlow backend.\n"
     ]
    }
   ],
   "source": [
    "import warnings\n",
    "warnings.filterwarnings('ignore')\n",
    "\n",
    "import csv\n",
    "from scipy.misc import imread, face\n",
    "from keras.preprocessing.image import random_shift\n",
    "import numpy as np\n",
    "import random\n",
    "import cv2\n",
    "import matplotlib.pyplot as plt\n",
    "from sklearn.utils import shuffle\n",
    "\n",
    "from keras.models import Sequential\n",
    "from keras.layers import Flatten, Dense, MaxPooling2D, Activation, Dropout, Lambda, Convolution2D, Cropping2D, ELU\n"
   ]
  },
  {
   "cell_type": "code",
   "execution_count": 4,
   "metadata": {
    "collapsed": true
   },
   "outputs": [],
   "source": [
    "def load_path(filename, angle_offset=0.2):\n",
    "    '''\n",
    "    Reading the csv file and loading the image paths (center, left, right) and angles\n",
    "    '''\n",
    "    imgs = []\n",
    "    angles = []\n",
    "    with open(filename) as csvfile:\n",
    "        has_header = csv.Sniffer().has_header(csvfile.read(1024))\n",
    "        csvfile.seek(0)\n",
    "        reader = csv.reader(csvfile)\n",
    "        if has_header: next(reader)\n",
    "        for center_img, left_img, right_img, angle, _, _, _ in reader:\n",
    "            imgs += [center_img.strip(), left_img.strip(), right_img.strip()]\n",
    "            angles += [float(angle), float(angle)+angle_offset, float(angle)-angle_offset]\n",
    "    return imgs, angles\n",
    "\n",
    "X, y = load_path('../data/data/driving_log.csv')"
   ]
  },
  {
   "cell_type": "code",
   "execution_count": 9,
   "metadata": {
    "collapsed": false
   },
   "outputs": [
    {
     "name": "stdout",
     "output_type": "stream",
     "text": [
      "['IMG/center_2016_12_01_13_30_48_287.jpg', 'IMG/left_2016_12_01_13_30_48_287.jpg', 'IMG/right_2016_12_01_13_30_48_287.jpg', 'IMG/center_2016_12_01_13_30_48_404.jpg', 'IMG/left_2016_12_01_13_30_48_404.jpg', 'IMG/right_2016_12_01_13_30_48_404.jpg', 'IMG/center_2016_12_01_13_31_12_937.jpg', 'IMG/left_2016_12_01_13_31_12_937.jpg', 'IMG/right_2016_12_01_13_31_12_937.jpg', 'IMG/center_2016_12_01_13_31_13_037.jpg']\n",
      "[0.0, 0.2, -0.2, 0.0, 0.2, -0.2, 0.0, 0.2, -0.2, 0.0]\n"
     ]
    }
   ],
   "source": [
    "# X stores image paths for center, left, right images\n",
    "print(X[:10])\n",
    "# y stores the angles\n",
    "print(y[:10])"
   ]
  },
  {
   "cell_type": "code",
   "execution_count": 18,
   "metadata": {
    "collapsed": true
   },
   "outputs": [],
   "source": [
    "def random_brightness(img):\n",
    "    '''\n",
    "    Apply random brightness to the image\n",
    "    '''\n",
    "    new_img = cv2.cvtColor(img,cv2.COLOR_RGB2HSV)\n",
    "    new_img = np.array(new_img, dtype = np.float64)\n",
    "    random_bright = .5+np.random.uniform()\n",
    "    new_img[:,:,2] = new_img[:,:,2]*random_bright\n",
    "    new_img[:,:,2][new_img[:,:,2]>255]  = 255\n",
    "    new_img = np.array(new_img, dtype = np.uint8)\n",
    "    new_img = cv2.cvtColor(new_img,cv2.COLOR_HSV2RGB)\n",
    "    return new_img\n",
    "\n",
    "def load_augment_img(img_path, angle):\n",
    "    '''\n",
    "    Load an image given a path and augment\n",
    "    '''\n",
    "    base_path = '../data/data/'\n",
    "    img = imread(base_path+img_path, mode = 'RGB')\n",
    "    # TODO: do some augmentation\n",
    "    if random.random() < 0.5: img = random_brightness(img)\n",
    "    if random.random() < 0.5:\n",
    "        img = np.fliplr(img)\n",
    "        angle = -angle\n",
    "    img = random_shift(img, 0.1, 0.1, 0, 1, 2)\n",
    "    return img, angle\n",
    "\n",
    "def data_generator(imgs, angles, batch_size):\n",
    "    '''\n",
    "    Generate unlimited images\n",
    "    '''\n",
    "    num_samples = len(imgs)\n",
    "    while 1:\n",
    "        new_imgs = []\n",
    "        new_angles = []\n",
    "        for i in range(batch_size):\n",
    "            random_index = random.randint(0, num_samples-1)\n",
    "            random_image, random_angle = load_augment_img(imgs[random_index], angles[random_index])\n",
    "            new_imgs.append(random_image)\n",
    "            new_angles.append(random_angle)\n",
    "        X = np.array(new_imgs)\n",
    "        y = np.array(new_angles)\n",
    "        yield shuffle(X, y)"
   ]
  },
  {
   "cell_type": "code",
   "execution_count": 19,
   "metadata": {
    "collapsed": true
   },
   "outputs": [],
   "source": [
    "def model():\n",
    "    '''\n",
    "    Convolutional model using comma and nvidia architecutures\n",
    "    '''\n",
    "    input_shape = (160, 320, 3)\n",
    "    model = Sequential()\n",
    "    model.add(Lambda(lambda x: x/127.5 - 1., input_shape=input_shape, output_shape=input_shape))\n",
    "    model.add(Cropping2D(cropping=((70,25), (0,0))))\n",
    "    model.add(Convolution2D(16,8,8,subsample=(4,4), border_mode='same'))\n",
    "    model.add(ELU())\n",
    "    model.add(Convolution2D(32,5,5,subsample=(2,2),border_mode='same'))\n",
    "    model.add(ELU())\n",
    "    model.add(Convolution2D(64,5,5,subsample=(2,2),border_mode='same'))\n",
    "    model.add(Flatten())\n",
    "    model.add(Dropout(0.2))\n",
    "    model.add(Dense(512))\n",
    "    model.add(Dropout(0.5))\n",
    "    model.add(ELU())\n",
    "    model.add(Dense(1))\n",
    "    model.compile(loss='mse', optimizer='adam')\n",
    "    return model"
   ]
  },
  {
   "cell_type": "code",
   "execution_count": 20,
   "metadata": {
    "collapsed": true
   },
   "outputs": [],
   "source": [
    "def train(X, y):\n",
    "    '''\n",
    "    Train our model\n",
    "    '''\n",
    "    samples = len(X)\n",
    "    batch_size = 1000\n",
    "    network = model()\n",
    "    print('Training size', len(X))\n",
    "    network.fit_generator(data_generator(X, y, batch_size),samples_per_epoch=samples/batch_size, nb_epoch=2)\n",
    "    network.save('model.h5')"
   ]
  },
  {
   "cell_type": "code",
   "execution_count": 21,
   "metadata": {
    "collapsed": false
   },
   "outputs": [],
   "source": [
    "aug_imgs = data_generator(X,y,10)"
   ]
  },
  {
   "cell_type": "code",
   "execution_count": 22,
   "metadata": {
    "collapsed": false
   },
   "outputs": [
    {
     "ename": "FileNotFoundError",
     "evalue": "[Errno 2] No such file or directory: '../data/data/IMG/IMG/right_2016_12_01_13_37_00_393.jpg'",
     "output_type": "error",
     "traceback": [
      "\u001b[0;31m---------------------------------------------------------------------------\u001b[0m",
      "\u001b[0;31mFileNotFoundError\u001b[0m                         Traceback (most recent call last)",
      "\u001b[0;32m<ipython-input-22-ce27f1e559a4>\u001b[0m in \u001b[0;36m<module>\u001b[0;34m()\u001b[0m\n\u001b[0;32m----> 1\u001b[0;31m \u001b[0mnext\u001b[0m\u001b[1;33m(\u001b[0m\u001b[0maug_imgs\u001b[0m\u001b[1;33m)\u001b[0m\u001b[1;33m\u001b[0m\u001b[0m\n\u001b[0m",
      "\u001b[0;32m<ipython-input-18-e9d29e6c90a3>\u001b[0m in \u001b[0;36mdata_generator\u001b[0;34m(imgs, angles, batch_size)\u001b[0m\n\u001b[1;32m     36\u001b[0m         \u001b[1;32mfor\u001b[0m \u001b[0mi\u001b[0m \u001b[1;32min\u001b[0m \u001b[0mrange\u001b[0m\u001b[1;33m(\u001b[0m\u001b[0mbatch_size\u001b[0m\u001b[1;33m)\u001b[0m\u001b[1;33m:\u001b[0m\u001b[1;33m\u001b[0m\u001b[0m\n\u001b[1;32m     37\u001b[0m             \u001b[0mrandom_index\u001b[0m \u001b[1;33m=\u001b[0m \u001b[0mrandom\u001b[0m\u001b[1;33m.\u001b[0m\u001b[0mrandint\u001b[0m\u001b[1;33m(\u001b[0m\u001b[1;36m0\u001b[0m\u001b[1;33m,\u001b[0m \u001b[0mnum_samples\u001b[0m\u001b[1;33m-\u001b[0m\u001b[1;36m1\u001b[0m\u001b[1;33m)\u001b[0m\u001b[1;33m\u001b[0m\u001b[0m\n\u001b[0;32m---> 38\u001b[0;31m             \u001b[0mrandom_image\u001b[0m\u001b[1;33m,\u001b[0m \u001b[0mrandom_angle\u001b[0m \u001b[1;33m=\u001b[0m \u001b[0mload_augment_img\u001b[0m\u001b[1;33m(\u001b[0m\u001b[0mimgs\u001b[0m\u001b[1;33m[\u001b[0m\u001b[0mrandom_index\u001b[0m\u001b[1;33m]\u001b[0m\u001b[1;33m,\u001b[0m \u001b[0mangles\u001b[0m\u001b[1;33m[\u001b[0m\u001b[0mrandom_index\u001b[0m\u001b[1;33m]\u001b[0m\u001b[1;33m)\u001b[0m\u001b[1;33m\u001b[0m\u001b[0m\n\u001b[0m\u001b[1;32m     39\u001b[0m             \u001b[0mnew_imgs\u001b[0m\u001b[1;33m.\u001b[0m\u001b[0mappend\u001b[0m\u001b[1;33m(\u001b[0m\u001b[0mrandom_image\u001b[0m\u001b[1;33m)\u001b[0m\u001b[1;33m\u001b[0m\u001b[0m\n\u001b[1;32m     40\u001b[0m             \u001b[0mnew_angles\u001b[0m\u001b[1;33m.\u001b[0m\u001b[0mappend\u001b[0m\u001b[1;33m(\u001b[0m\u001b[0mrandom_angle\u001b[0m\u001b[1;33m)\u001b[0m\u001b[1;33m\u001b[0m\u001b[0m\n",
      "\u001b[0;32m<ipython-input-18-e9d29e6c90a3>\u001b[0m in \u001b[0;36mload_augment_img\u001b[0;34m(img_path, angle)\u001b[0m\n\u001b[1;32m     17\u001b[0m     '''\n\u001b[1;32m     18\u001b[0m     \u001b[0mbase_path\u001b[0m \u001b[1;33m=\u001b[0m \u001b[1;34m'../data/data/IMG/'\u001b[0m\u001b[1;33m\u001b[0m\u001b[0m\n\u001b[0;32m---> 19\u001b[0;31m     \u001b[0mimg\u001b[0m \u001b[1;33m=\u001b[0m \u001b[0mimread\u001b[0m\u001b[1;33m(\u001b[0m\u001b[0mbase_path\u001b[0m\u001b[1;33m+\u001b[0m\u001b[0mimg_path\u001b[0m\u001b[1;33m,\u001b[0m \u001b[0mmode\u001b[0m \u001b[1;33m=\u001b[0m \u001b[1;34m'RGB'\u001b[0m\u001b[1;33m)\u001b[0m\u001b[1;33m\u001b[0m\u001b[0m\n\u001b[0m\u001b[1;32m     20\u001b[0m     \u001b[1;31m# TODO: do some augmentation\u001b[0m\u001b[1;33m\u001b[0m\u001b[1;33m\u001b[0m\u001b[0m\n\u001b[1;32m     21\u001b[0m     \u001b[1;32mif\u001b[0m \u001b[0mrandom\u001b[0m\u001b[1;33m.\u001b[0m\u001b[0mrandom\u001b[0m\u001b[1;33m(\u001b[0m\u001b[1;33m)\u001b[0m \u001b[1;33m<\u001b[0m \u001b[1;36m0.5\u001b[0m\u001b[1;33m:\u001b[0m \u001b[0mimg\u001b[0m \u001b[1;33m=\u001b[0m \u001b[0mrandom_brightness\u001b[0m\u001b[1;33m(\u001b[0m\u001b[0mimg\u001b[0m\u001b[1;33m)\u001b[0m\u001b[1;33m\u001b[0m\u001b[0m\n",
      "\u001b[0;32mC:\\Users\\Bhavesh\\Anaconda3\\lib\\site-packages\\scipy\\misc\\pilutil.py\u001b[0m in \u001b[0;36mimread\u001b[0;34m(name, flatten, mode)\u001b[0m\n\u001b[1;32m    152\u001b[0m     \"\"\"\n\u001b[1;32m    153\u001b[0m \u001b[1;33m\u001b[0m\u001b[0m\n\u001b[0;32m--> 154\u001b[0;31m     \u001b[0mim\u001b[0m \u001b[1;33m=\u001b[0m \u001b[0mImage\u001b[0m\u001b[1;33m.\u001b[0m\u001b[0mopen\u001b[0m\u001b[1;33m(\u001b[0m\u001b[0mname\u001b[0m\u001b[1;33m)\u001b[0m\u001b[1;33m\u001b[0m\u001b[0m\n\u001b[0m\u001b[1;32m    155\u001b[0m     \u001b[1;32mreturn\u001b[0m \u001b[0mfromimage\u001b[0m\u001b[1;33m(\u001b[0m\u001b[0mim\u001b[0m\u001b[1;33m,\u001b[0m \u001b[0mflatten\u001b[0m\u001b[1;33m=\u001b[0m\u001b[0mflatten\u001b[0m\u001b[1;33m,\u001b[0m \u001b[0mmode\u001b[0m\u001b[1;33m=\u001b[0m\u001b[0mmode\u001b[0m\u001b[1;33m)\u001b[0m\u001b[1;33m\u001b[0m\u001b[0m\n\u001b[1;32m    156\u001b[0m \u001b[1;33m\u001b[0m\u001b[0m\n",
      "\u001b[0;32mC:\\Users\\Bhavesh\\Anaconda3\\lib\\site-packages\\PIL\\Image.py\u001b[0m in \u001b[0;36mopen\u001b[0;34m(fp, mode)\u001b[0m\n\u001b[1;32m   2278\u001b[0m             \u001b[0mfilename\u001b[0m \u001b[1;33m=\u001b[0m \u001b[0mstr\u001b[0m\u001b[1;33m(\u001b[0m\u001b[0mfp\u001b[0m\u001b[1;33m.\u001b[0m\u001b[0mresolve\u001b[0m\u001b[1;33m(\u001b[0m\u001b[1;33m)\u001b[0m\u001b[1;33m)\u001b[0m\u001b[1;33m\u001b[0m\u001b[0m\n\u001b[1;32m   2279\u001b[0m     \u001b[1;32mif\u001b[0m \u001b[0mfilename\u001b[0m\u001b[1;33m:\u001b[0m\u001b[1;33m\u001b[0m\u001b[0m\n\u001b[0;32m-> 2280\u001b[0;31m         \u001b[0mfp\u001b[0m \u001b[1;33m=\u001b[0m \u001b[0mbuiltins\u001b[0m\u001b[1;33m.\u001b[0m\u001b[0mopen\u001b[0m\u001b[1;33m(\u001b[0m\u001b[0mfilename\u001b[0m\u001b[1;33m,\u001b[0m \u001b[1;34m\"rb\"\u001b[0m\u001b[1;33m)\u001b[0m\u001b[1;33m\u001b[0m\u001b[0m\n\u001b[0m\u001b[1;32m   2281\u001b[0m \u001b[1;33m\u001b[0m\u001b[0m\n\u001b[1;32m   2282\u001b[0m     \u001b[1;32mtry\u001b[0m\u001b[1;33m:\u001b[0m\u001b[1;33m\u001b[0m\u001b[0m\n",
      "\u001b[0;31mFileNotFoundError\u001b[0m: [Errno 2] No such file or directory: '../data/data/IMG/IMG/right_2016_12_01_13_37_00_393.jpg'"
     ]
    }
   ],
   "source": [
    "next(aug_imgs)"
   ]
  },
  {
   "cell_type": "code",
   "execution_count": null,
   "metadata": {
    "collapsed": true
   },
   "outputs": [],
   "source": []
  }
 ],
 "metadata": {
  "anaconda-cloud": {},
  "kernelspec": {
   "display_name": "Python [default]",
   "language": "python",
   "name": "python3"
  },
  "language_info": {
   "codemirror_mode": {
    "name": "ipython",
    "version": 3
   },
   "file_extension": ".py",
   "mimetype": "text/x-python",
   "name": "python",
   "nbconvert_exporter": "python",
   "pygments_lexer": "ipython3",
   "version": "3.5.2"
  }
 },
 "nbformat": 4,
 "nbformat_minor": 1
}
